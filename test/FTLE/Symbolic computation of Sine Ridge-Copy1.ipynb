{
 "cells": [
  {
   "cell_type": "markdown",
   "metadata": {},
   "source": [
    "# Symbolic computation of Sine Ridge:\n",
    "\n",
    "The goal is to create a vector field that has a closed-form expression for the FTLE field, but already displays nontrivial spatial dependence. \n",
    "\n",
    "Start with a simple system that has a closed form expression for the flowmap (and also the FTLE field).\n",
    "$$\\dot{x} = -x  \\\\ \\dot{y} = 1 $$\n",
    "This system can be integrated, and it can be seen that it has an FTLE ridge along the $y$ axis. \n",
    "\n",
    "Now introduce a coordinate transform \n",
    "\n",
    "$$\n",
    "(x,y) = w(u, v).\n",
    "$$\n",
    "\n",
    "The vector field in the new coordinates can be obtained by differentiating the expression:\n",
    "$$\n",
    "\\dot{(w(u,v))} = f(w(u,v))\n",
    "$$\n",
    "\n",
    "$$\n",
    "\\nabla w \\dot{(u,v)} = f(w(u,v)) \\\\\n",
    "\\dot{(u,v)} = (\\nabla w)^{-1} f(w(u,v))\n",
    "$$\n",
    "\n",
    "If the flow map of the $(x,y)$ system is $F^\\tau (x_0,y_0)$, the transformed system's becomes\n",
    "\n",
    "$$\n",
    "(F^\\tau(u_0,v_0))' = w^{-1}\\circ F^\\tau \\circ w(u_0,v_0)\n",
    "$$\n",
    "\n",
    "For the particular example, we have\n",
    "\n",
    "$$F^\\tau(x_0,y_0) = \\left(x_0e^{-\\tau}, y_0 + \\tau\\right)$$.\n",
    "\n",
    "Let's introduce the transformation \n",
    "$$\n",
    "(x,y) := w(u,v) = (u - \\sin v, v) \\\\\n",
    "w^{-1}(x,y) = (x + \\sin y, y).\n",
    "$$\n",
    "\n",
    "Under this, the flow map transforms into\n",
    "\n",
    "$$\n",
    "(F^\\tau(u_0,v_0))' = \\left( \\frac{u_0 - \\sin v_0}{\\sqrt{(u_0 - \\sin v_0)^2 + [1-(u_0 -\\sin v_0)^2]e^{-2\\tau}}} + \\sin (v_0 + \\tau), v_0 + \\tau \\right)\n",
    "$$\n",
    "\n",
    "From this, we can calculate the flow map gradient, and the Cauchy-Green strain tensor\n",
    "\n",
    "\n",
    "$\\nabla (F^\\tau(u_0,v_0))'$ = \n",
    "\\begin{bmatrix}\n",
    "    \\frac{\\partial (F^\\tau(u_0,v_0))'_1}{\\partial u_0} & \\frac{\\partial (F^\\tau(u_0,v_0))'_1}{\\partial v_0} \\\\\n",
    "    \\frac{\\partial (F^\\tau(u_0,v_0))'_2}{\\partial u_0} & \\frac{\\partial (F^\\tau(u_0,v_0))'_2}{\\partial v_0}\n",
    "\\end{bmatrix}\n",
    "\n",
    "$$\n",
    "C^\\tau(u_0,v_0) = [\\nabla (F^\\tau(u_0,v_0))']^T\\nabla (F^\\tau(u_0,v_0))'.\n",
    "$$\n",
    "\n",
    "Its maximal eigenvalue gives the FTLE field:\n",
    "$$\n",
    "\\lambda_2 = \\frac{\\text{tr}(C) + \\sqrt{(\\text{tr}(C)^2 - 4\\text{det}(C)}}{2} \\\\\n",
    "\\text{FTLE}(\\tau, u_0,v_0) = \\frac{\\text{log} \\lambda_2}{2 \\tau}\n",
    "$$\n"
   ]
  },
  {
   "cell_type": "code",
   "execution_count": 1,
   "metadata": {},
   "outputs": [],
   "source": [
    "from sympy import init_printing\n",
    "init_printing()\n",
    "import numpy as np\n",
    "\n",
    "import matplotlib.pyplot as plt"
   ]
  },
  {
   "cell_type": "code",
   "execution_count": 2,
   "metadata": {},
   "outputs": [
    {
     "name": "stdout",
     "output_type": "stream",
     "text": [
      "IPython console for SymPy 1.4 (Python 3.7.4-64-bit) (ground types: gmpy)\n",
      "\n",
      "These commands were executed:\n",
      ">>> from __future__ import division\n",
      ">>> from sympy import *\n",
      ">>> x, y, z, t = symbols('x y z t')\n",
      ">>> k, m, n = symbols('k m n', integer=True)\n",
      ">>> f, g, h = symbols('f g h', cls=Function)\n",
      ">>> init_printing()\n",
      "\n",
      "Documentation can be found at https://docs.sympy.org/1.4/\n",
      "\n"
     ]
    }
   ],
   "source": [
    "from sympy import init_session\n",
    "init_session()"
   ]
  },
  {
   "cell_type": "code",
   "execution_count": 87,
   "metadata": {},
   "outputs": [],
   "source": [
    "u, v, t1, t2 = symbols('u v t1 t2')\n",
    "def FlowMap1(u, v,t1, t2):\n",
    "    return (u-sin(v))*exp(-(t2-t1))+ sin(v + (t2-t1))\n",
    "FlowMapX = FlowMap1(u, v, t1, t2)\n",
    "\n",
    "def FlowMap2(u,v,t1, t2):\n",
    "    return v + t2 - t1\n",
    "FlowMapY = FlowMap2(u, v, t1, t2)"
   ]
  },
  {
   "cell_type": "markdown",
   "metadata": {},
   "source": [
    "$$ \n",
    "F(u_0,v_0,t, t_0)_1 =\n",
    "$$"
   ]
  },
  {
   "cell_type": "code",
   "execution_count": 88,
   "metadata": {},
   "outputs": [
    {
     "data": {
      "image/png": "[encoded data removed]",
      "text/latex": [
       "$\\displaystyle \\left(u - \\sin{\\left(v \\right)}\\right) e^{t_{1} - t_{2}} + \\sin{\\left(- t_{1} + t_{2} + v \\right)}$"
      ],
      "text/plain": [
       "              t₁ - t₂                    \n",
       "(u - sin(v))⋅ℯ        + sin(-t₁ + t₂ + v)"
      ]
     },
     "execution_count": 88,
     "metadata": {},
     "output_type": "execute_result"
    }
   ],
   "source": [
    "FlowMapX"
   ]
  },
  {
   "cell_type": "markdown",
   "metadata": {},
   "source": [
    "$$ \n",
    "F(u_0,v_0,t, t0)_2 =\n",
    "$$"
   ]
  },
  {
   "cell_type": "code",
   "execution_count": 89,
   "metadata": {},
   "outputs": [
    {
     "data": {
      "image/png": "[encoded data removed]",
      "text/latex": [
       "$\\displaystyle - t_{1} + t_{2} + v$"
      ],
      "text/plain": [
       "-t₁ + t₂ + v"
      ]
     },
     "execution_count": 89,
     "metadata": {},
     "output_type": "execute_result"
    }
   ],
   "source": [
    "FlowMapY"
   ]
  },
  {
   "cell_type": "code",
   "execution_count": 90,
   "metadata": {},
   "outputs": [],
   "source": [
    "fxx = simplify(diff(FlowMapX, u))\n",
    "fxy = simplify(diff(FlowMapX, v))\n",
    "fyx = diff(FlowMapY, u)\n",
    "fyy = diff(FlowMapY, v)"
   ]
  },
  {
   "cell_type": "markdown",
   "metadata": {},
   "source": [
    "Flowmap Gradient is\n"
   ]
  },
  {
   "cell_type": "code",
   "execution_count": 91,
   "metadata": {},
   "outputs": [
    {
     "data": {
      "image/png": "[encoded data removed]",
      "text/latex": [
       "$\\displaystyle \\left[\\begin{matrix}e^{t_{1} - t_{2}} & - e^{t_{1} - t_{2}} \\cos{\\left(v \\right)} + \\cos{\\left(- t_{1} + t_{2} + v \\right)}\\\\0 & 1\\end{matrix}\\right]$"
      ],
      "text/plain": [
       "⎡ t₁ - t₂     t₁ - t₂                           ⎤\n",
       "⎢ℯ         - ℯ       ⋅cos(v) + cos(-t₁ + t₂ + v)⎥\n",
       "⎢                                               ⎥\n",
       "⎣   0                        1                  ⎦"
      ]
     },
     "execution_count": 91,
     "metadata": {},
     "output_type": "execute_result"
    }
   ],
   "source": [
    "dF = Matrix([[fxx, fxy], [fyx, fyy]])\n",
    "dF"
   ]
  },
  {
   "cell_type": "markdown",
   "metadata": {},
   "source": [
    "Cauchy Green tensor"
   ]
  },
  {
   "cell_type": "code",
   "execution_count": 92,
   "metadata": {},
   "outputs": [
    {
     "data": {
      "image/png": "[encoded data removed]",
      "text/latex": [
       "$\\displaystyle \\left[\\begin{matrix}e^{2 t_{1} - 2 t_{2}} & \\left(- e^{t_{1} - t_{2}} \\cos{\\left(v \\right)} + \\cos{\\left(- t_{1} + t_{2} + v \\right)}\\right) e^{t_{1} - t_{2}}\\\\\\left(- e^{t_{1} - t_{2}} \\cos{\\left(v \\right)} + \\cos{\\left(- t_{1} + t_{2} + v \\right)}\\right) e^{t_{1} - t_{2}} & \\left(- e^{t_{1} - t_{2}} \\cos{\\left(v \\right)} + \\cos{\\left(- t_{1} + t_{2} + v \\right)}\\right)^{2} + 1\\end{matrix}\\right]$"
      ],
      "text/plain": [
       "⎡                   2⋅t₁ - 2⋅t₂                    ⎛   t₁ - t₂                \n",
       "⎢                  ℯ                               ⎝- ℯ       ⋅cos(v) + cos(-t\n",
       "⎢                                                                             \n",
       "⎢                                                                             \n",
       "⎢⎛   t₁ - t₂                           ⎞  t₁ - t₂    ⎛   t₁ - t₂              \n",
       "⎣⎝- ℯ       ⋅cos(v) + cos(-t₁ + t₂ + v)⎠⋅ℯ           ⎝- ℯ       ⋅cos(v) + cos(\n",
       "\n",
       "           ⎞  t₁ - t₂⎤\n",
       "₁ + t₂ + v)⎠⋅ℯ       ⎥\n",
       "                     ⎥\n",
       "              2      ⎥\n",
       "             ⎞       ⎥\n",
       "-t₁ + t₂ + v)⎠  + 1  ⎦"
      ]
     },
     "execution_count": 92,
     "metadata": {},
     "output_type": "execute_result"
    }
   ],
   "source": [
    "C = dF.T*dF\n",
    "C"
   ]
  },
  {
   "cell_type": "markdown",
   "metadata": {},
   "source": [
    "Eigenvalues, calculating it explicitly with the trace-determinant formula"
   ]
  },
  {
   "cell_type": "code",
   "execution_count": 93,
   "metadata": {},
   "outputs": [],
   "source": [
    "tr = trace(C)\n",
    "tr = simplify(tr)\n",
    "determ = det(C)\n",
    "determ = simplify(determ)"
   ]
  },
  {
   "cell_type": "code",
   "execution_count": 94,
   "metadata": {},
   "outputs": [],
   "source": [
    "lambdaMax = (tr + sqrt(tr**2 - 4*determ))/2"
   ]
  },
  {
   "cell_type": "code",
   "execution_count": 95,
   "metadata": {},
   "outputs": [
    {
     "data": {
      "image/png": "[encoded data removed]",
      "text/latex": [
       "$\\displaystyle \\frac{\\left(e^{t_{1} - t_{2}} \\cos{\\left(v \\right)} - \\cos{\\left(- t_{1} + t_{2} + v \\right)}\\right)^{2}}{2} + \\frac{\\sqrt{\\left(\\left(e^{t_{1} - t_{2}} \\cos{\\left(v \\right)} - \\cos{\\left(- t_{1} + t_{2} + v \\right)}\\right)^{2} + e^{2 t_{1} - 2 t_{2}} + 1\\right)^{2} - 4 e^{2 t_{1} - 2 t_{2}}}}{2} + \\frac{e^{2 t_{1} - 2 t_{2}}}{2} + \\frac{1}{2}$"
      ],
      "text/plain": [
       "                                              ________________________________\n",
       "                                             ╱                                \n",
       "                                     2      ╱  ⎛                              \n",
       "⎛ t₁ - t₂                           ⎞      ╱   ⎜⎛ t₁ - t₂                     \n",
       "⎝ℯ       ⋅cos(v) - cos(-t₁ + t₂ + v)⎠    ╲╱    ⎝⎝ℯ       ⋅cos(v) - cos(-t₁ + t\n",
       "────────────────────────────────────── + ─────────────────────────────────────\n",
       "                  2                                                           \n",
       "\n",
       "_______________________________________________                   \n",
       "                            2                                     \n",
       "       2                   ⎞                                      \n",
       "      ⎞     2⋅t₁ - 2⋅t₂    ⎟       2⋅t₁ - 2⋅t₂     2⋅t₁ - 2⋅t₂    \n",
       "₂ + v)⎠  + ℯ            + 1⎠  - 4⋅ℯ               ℯ              1\n",
       "─────────────────────────────────────────────── + ──────────── + ─\n",
       "    2                                                  2         2"
      ]
     },
     "execution_count": 95,
     "metadata": {},
     "output_type": "execute_result"
    }
   ],
   "source": [
    "lambdaMax"
   ]
  },
  {
   "cell_type": "code",
   "execution_count": 34,
   "metadata": {},
   "outputs": [],
   "source": [
    "f = lambdify((u,v,tau,s), lambdaMax, 'numpy')"
   ]
  },
  {
   "cell_type": "markdown",
   "metadata": {},
   "source": [
    "Creating meshgrid for visuals. Display on a grid of 1000 by 1000."
   ]
  },
  {
   "cell_type": "code",
   "execution_count": 168,
   "metadata": {},
   "outputs": [],
   "source": [
    "nx, ny = (100, 100)\n",
    "u = np.linspace(-2, 2,nx)\n",
    "v = np.linspace(-4,4,ny)\n",
    "U, V = np.meshgrid(u,v)"
   ]
  },
  {
   "cell_type": "markdown",
   "metadata": {},
   "source": [
    "Calculating FTLE values for $t_0=0, t=2$. Saving the result in a matrix for MATLAB processing"
   ]
  },
  {
   "cell_type": "code",
   "execution_count": 40,
   "metadata": {},
   "outputs": [],
   "source": [
    "time = 2\n",
    "FTLE = np.log(f(U,V, time, 0))/(2*time)"
   ]
  },
  {
   "cell_type": "code",
   "execution_count": 41,
   "metadata": {},
   "outputs": [],
   "source": [
    "%matplotlib inline"
   ]
  },
  {
   "cell_type": "code",
   "execution_count": 42,
   "metadata": {},
   "outputs": [
    {
     "data": {
      "text/plain": [
       "<matplotlib.image.AxesImage at 0x1178439d0>"
      ]
     },
     "execution_count": 42,
     "metadata": {},
     "output_type": "execute_result"
    },
    {
     "data": {
      "image/png": "[encoded data removed]",
      "text/plain": [
       "<Figure size 432x288 with 1 Axes>"
      ]
     },
     "metadata": {
      "needs_background": "light"
     },
     "output_type": "display_data"
    }
   ],
   "source": [
    "plt.imshow(FTLE)"
   ]
  },
  {
   "cell_type": "markdown",
   "metadata": {},
   "source": [
    "## Transformation of the vectorfield \n",
    "\n",
    "The vector field transforms according to \n",
    "\n",
    "$$\n",
    "\\dot{(u,v)} = (\\nabla w)^{-1} f(w(u,v)).\n",
    "$$\n",
    "\n",
    "Substituting the specific transformation and original vector fields:\n",
    "\n",
    "$$\n",
    "\\nabla w =$$\n",
    "\\begin{bmatrix}\n",
    "    1 & -cos v \\\\\n",
    "    0 & 1\n",
    "\\end{bmatrix} \n",
    "$$(\\nabla w)^{-1} =$$ \n",
    "\\begin{bmatrix}\n",
    "    1 & cos v \\\\\n",
    "    0 & 1\n",
    "\\end{bmatrix} \n",
    "\n",
    "$$\n",
    "\\dot{u} = u - \\sin v - (u - \\sin v)^3 + \\cos v \\\\\n",
    "\\dot{v} = 1\n",
    "$$"
   ]
  },
  {
   "cell_type": "code",
   "execution_count": 155,
   "metadata": {},
   "outputs": [],
   "source": [
    "finiteDiff = np.loadtxt('FTLE_finiteDiff.txt')"
   ]
  },
  {
   "cell_type": "markdown",
   "metadata": {},
   "source": [
    "Displaying the difference between the analytic and the finite difference FTLE fields"
   ]
  },
  {
   "cell_type": "code",
   "execution_count": 156,
   "metadata": {},
   "outputs": [
    {
     "data": {
      "text/plain": [
       "<matplotlib.colorbar.Colorbar at 0x1283c6a10>"
      ]
     },
     "execution_count": 156,
     "metadata": {},
     "output_type": "execute_result"
    },
    {
     "data": {
      "image/png": "[encoded data removed]",
      "text/plain": [
       "<Figure size 432x288 with 2 Axes>"
      ]
     },
     "metadata": {
      "needs_background": "light"
     },
     "output_type": "display_data"
    }
   ],
   "source": [
    "plt.imshow(np.abs(finiteDiff-FTLE))\n",
    "plt.colorbar()"
   ]
  },
  {
   "cell_type": "code",
   "execution_count": 157,
   "metadata": {},
   "outputs": [
    {
     "data": {
      "image/png": "[encoded data removed]",
      "text/latex": [
       "$\\displaystyle 2.6475142871501463e-07$"
      ],
      "text/plain": [
       "2.6475142871501463e-07"
      ]
     },
     "execution_count": 157,
     "metadata": {},
     "output_type": "execute_result"
    }
   ],
   "source": [
    "np.average(np.abs(finiteDiff-FTLE))"
   ]
  },
  {
   "cell_type": "markdown",
   "metadata": {},
   "source": [
    "# Model Sensitvity\n",
    "\n",
    "$$\n",
    "\\text{MS}^\\tau (u_0,v_0) = \\int_0^\\tau \\sqrt{\\lambda_2[u(s),v(s)]} ds\n",
    "$$"
   ]
  },
  {
   "cell_type": "code",
   "execution_count": 97,
   "metadata": {},
   "outputs": [],
   "source": [
    "u0 = Symbol('u0')\n",
    "v0 = Symbol('v0')\n",
    "s = Symbol('s')\n",
    "t = Symbol('t')\n",
    "t0 = Symbol('t0')\n",
    "us = FlowMapX.subs([(u, u0), (v, v0), (t1, t0), (t2, s)])\n",
    "vs = FlowMapY.subs([(u, u0), (v, v0), (t1, t0), (t2, s)])"
   ]
  },
  {
   "cell_type": "code",
   "execution_count": 98,
   "metadata": {},
   "outputs": [
    {
     "data": {
      "image/png": "[encoded data removed]",
      "text/latex": [
       "$\\displaystyle \\left\\{t_{1}, t_{2}, u, v\\right\\}$"
      ],
      "text/plain": [
       "{t₁, t₂, u, v}"
      ]
     },
     "execution_count": 98,
     "metadata": {},
     "output_type": "execute_result"
    }
   ],
   "source": [
    "FlowMapX.free_symbols"
   ]
  },
  {
   "cell_type": "code",
   "execution_count": 99,
   "metadata": {},
   "outputs": [
    {
     "data": {
      "image/png": "[encoded data removed]",
      "text/latex": [
       "$\\displaystyle \\left(u_{0} - \\sin{\\left(v_{0} \\right)}\\right) e^{- s + t_{0}} + \\sin{\\left(s - t_{0} + v_{0} \\right)}$"
      ],
      "text/plain": [
       "                -s + t₀                   \n",
       "(u₀ - sin(v₀))⋅ℯ        + sin(s - t₀ + v₀)"
      ]
     },
     "execution_count": 99,
     "metadata": {},
     "output_type": "execute_result"
    }
   ],
   "source": [
    "us"
   ]
  },
  {
   "cell_type": "code",
   "execution_count": 100,
   "metadata": {},
   "outputs": [
    {
     "data": {
      "image/png": "[encoded data removed]",
      "text/latex": [
       "$\\displaystyle \\frac{\\left(e^{t_{1} - t_{2}} \\cos{\\left(v \\right)} - \\cos{\\left(- t_{1} + t_{2} + v \\right)}\\right)^{2}}{2} + \\frac{\\sqrt{\\left(\\left(e^{t_{1} - t_{2}} \\cos{\\left(v \\right)} - \\cos{\\left(- t_{1} + t_{2} + v \\right)}\\right)^{2} + e^{2 t_{1} - 2 t_{2}} + 1\\right)^{2} - 4 e^{2 t_{1} - 2 t_{2}}}}{2} + \\frac{e^{2 t_{1} - 2 t_{2}}}{2} + \\frac{1}{2}$"
      ],
      "text/plain": [
       "                                              ________________________________\n",
       "                                             ╱                                \n",
       "                                     2      ╱  ⎛                              \n",
       "⎛ t₁ - t₂                           ⎞      ╱   ⎜⎛ t₁ - t₂                     \n",
       "⎝ℯ       ⋅cos(v) - cos(-t₁ + t₂ + v)⎠    ╲╱    ⎝⎝ℯ       ⋅cos(v) - cos(-t₁ + t\n",
       "────────────────────────────────────── + ─────────────────────────────────────\n",
       "                  2                                                           \n",
       "\n",
       "_______________________________________________                   \n",
       "                            2                                     \n",
       "       2                   ⎞                                      \n",
       "      ⎞     2⋅t₁ - 2⋅t₂    ⎟       2⋅t₁ - 2⋅t₂     2⋅t₁ - 2⋅t₂    \n",
       "₂ + v)⎠  + ℯ            + 1⎠  - 4⋅ℯ               ℯ              1\n",
       "─────────────────────────────────────────────── + ──────────── + ─\n",
       "    2                                                  2         2"
      ]
     },
     "execution_count": 100,
     "metadata": {},
     "output_type": "execute_result"
    }
   ],
   "source": [
    "lambdaMax"
   ]
  },
  {
   "cell_type": "code",
   "execution_count": 101,
   "metadata": {},
   "outputs": [],
   "source": [
    "lambdaAlongTraj = lambdaMax.subs([(u,us), (v,vs), (t1,s), (t2, t)])"
   ]
  },
  {
   "cell_type": "code",
   "execution_count": null,
   "metadata": {},
   "outputs": [],
   "source": []
  },
  {
   "cell_type": "code",
   "execution_count": 102,
   "metadata": {},
   "outputs": [
    {
     "data": {
      "image/png": "[encoded data removed]",
      "text/latex": [
       "$\\displaystyle \\frac{\\left(e^{s - t} \\cos{\\left(s - t_{0} + v_{0} \\right)} - \\cos{\\left(t - t_{0} + v_{0} \\right)}\\right)^{2}}{2} + \\frac{\\sqrt{\\left(\\left(e^{s - t} \\cos{\\left(s - t_{0} + v_{0} \\right)} - \\cos{\\left(t - t_{0} + v_{0} \\right)}\\right)^{2} + e^{2 s - 2 t} + 1\\right)^{2} - 4 e^{2 s - 2 t}}}{2} + \\frac{e^{2 s - 2 t}}{2} + \\frac{1}{2}$"
      ],
      "text/plain": [
       "                                                     _________________________\n",
       "                                                    ╱                         \n",
       "                                            2      ╱  ⎛                       \n",
       "⎛ s - t                                    ⎞      ╱   ⎜⎛ s - t                \n",
       "⎝ℯ     ⋅cos(s - t₀ + v₀) - cos(t - t₀ + v₀)⎠    ╲╱    ⎝⎝ℯ     ⋅cos(s - t₀ + v₀\n",
       "───────────────────────────────────────────── + ──────────────────────────────\n",
       "                      2                                                       \n",
       "\n",
       "_________________________________________________________                 \n",
       "                                        2                                 \n",
       "                     2                 ⎞                                  \n",
       "                    ⎞     2⋅s - 2⋅t    ⎟       2⋅s - 2⋅t     2⋅s - 2⋅t    \n",
       ") - cos(t - t₀ + v₀)⎠  + ℯ          + 1⎠  - 4⋅ℯ             ℯ            1\n",
       "───────────────────────────────────────────────────────── + ────────── + ─\n",
       "             2                                                  2        2"
      ]
     },
     "execution_count": 102,
     "metadata": {},
     "output_type": "execute_result"
    }
   ],
   "source": [
    "lambdaAlongTraj"
   ]
  },
  {
   "cell_type": "code",
   "execution_count": 103,
   "metadata": {},
   "outputs": [
    {
     "data": {
      "image/png": "[encoded data removed]",
      "text/latex": [
       "$\\displaystyle \\left\\{s, t, t_{0}, v_{0}\\right\\}$"
      ],
      "text/plain": [
       "{s, t, t₀, v₀}"
      ]
     },
     "execution_count": 103,
     "metadata": {},
     "output_type": "execute_result"
    }
   ],
   "source": [
    "lambdaAlongTraj.free_symbols"
   ]
  },
  {
   "cell_type": "code",
   "execution_count": 147,
   "metadata": {},
   "outputs": [],
   "source": [
    "lambdaAlongTrajNumeric = lambdify((s,t,t0,u0,v0), lambdaAlongTraj, 'numpy')\n",
    "lambdamaxNumeric = lambdify((t1,t2,u,v), lambdaMax, 'numpy')"
   ]
  },
  {
   "cell_type": "code",
   "execution_count": 175,
   "metadata": {},
   "outputs": [],
   "source": [
    "integrate_times =np.linspace(0, 2, 200)\n",
    "values = np.zeros((nx,ny,200))"
   ]
  },
  {
   "cell_type": "code",
   "execution_count": 174,
   "metadata": {},
   "outputs": [],
   "source": [
    "nx, ny = (100, 100)\n",
    "unum = np.linspace(-2, 2,nx)\n",
    "vnum = np.linspace(0,4,ny)\n",
    "U, V = np.meshgrid(unum,vnum)"
   ]
  },
  {
   "cell_type": "markdown",
   "metadata": {},
   "source": [
    "The pullback-FTLE is integrated:\n",
    "\n",
    "$$\n",
    "\\text{MS}^\\tau (u_0,v_0) = \\int_0^\\tau \\sqrt{\\lambda_2[u(s),v(s)]} ds = \\int_0^\\tau f(u_0,v_0,s,\\tau) ds\n",
    "$$\n",
    "Checking that we recover the FTLE field as:\n",
    "$$\n",
    "\\text{log}(f(u_0,v_0,0,\\tau))/\\tau = FTLE^\\tau(u_0,v_0).\n",
    "$$"
   ]
  },
  {
   "cell_type": "code",
   "execution_count": 142,
   "metadata": {},
   "outputs": [
    {
     "data": {
      "text/plain": [
       "array([[1.3084502 , 1.3084502 , 1.3084502 , 1.3084502 , 1.3084502 ,\n",
       "        1.3084502 , 1.3084502 , 1.3084502 , 1.3084502 , 1.3084502 ],\n",
       "       [1.79820876, 1.79820876, 1.79820876, 1.79820876, 1.79820876,\n",
       "        1.79820876, 1.79820876, 1.79820876, 1.79820876, 1.79820876],\n",
       "       [2.11961781, 2.11961781, 2.11961781, 2.11961781, 2.11961781,\n",
       "        2.11961781, 2.11961781, 2.11961781, 2.11961781, 2.11961781],\n",
       "       [2.03652448, 2.03652448, 2.03652448, 2.03652448, 2.03652448,\n",
       "        2.03652448, 2.03652448, 2.03652448, 2.03652448, 2.03652448],\n",
       "       [1.60997827, 1.60997827, 1.60997827, 1.60997827, 1.60997827,\n",
       "        1.60997827, 1.60997827, 1.60997827, 1.60997827, 1.60997827],\n",
       "       [1.15353829, 1.15353829, 1.15353829, 1.15353829, 1.15353829,\n",
       "        1.15353829, 1.15353829, 1.15353829, 1.15353829, 1.15353829],\n",
       "       [1.00567613, 1.00567613, 1.00567613, 1.00567613, 1.00567613,\n",
       "        1.00567613, 1.00567613, 1.00567613, 1.00567613, 1.00567613],\n",
       "       [1.27805105, 1.27805105, 1.27805105, 1.27805105, 1.27805105,\n",
       "        1.27805105, 1.27805105, 1.27805105, 1.27805105, 1.27805105],\n",
       "       [1.76598793, 1.76598793, 1.76598793, 1.76598793, 1.76598793,\n",
       "        1.76598793, 1.76598793, 1.76598793, 1.76598793, 1.76598793],\n",
       "       [2.10925986, 2.10925986, 2.10925986, 2.10925986, 2.10925986,\n",
       "        2.10925986, 2.10925986, 2.10925986, 2.10925986, 2.10925986]])"
      ]
     },
     "execution_count": 142,
     "metadata": {},
     "output_type": "execute_result"
    }
   ],
   "source": [
    "lambdaAlongTrajNumeric(0,2,0,U,V)"
   ]
  },
  {
   "cell_type": "code",
   "execution_count": 181,
   "metadata": {},
   "outputs": [
    {
     "data": {
      "text/plain": [
       "<matplotlib.colorbar.Colorbar at 0x119ca1d90>"
      ]
     },
     "execution_count": 181,
     "metadata": {},
     "output_type": "execute_result"
    },
    {
     "data": {
      "image/png": "[encoded data removed]",
      "text/plain": [
       "<Figure size 432x288 with 2 Axes>"
      ]
     },
     "metadata": {
      "needs_background": "light"
     },
     "output_type": "display_data"
    }
   ],
   "source": [
    "ftle2 = lambdamaxNumeric(0,2,U,V)\n",
    "ftle2 = np.log(ftle2)/4\n",
    "plt.imshow(ftle2)\n",
    "plt.colorbar()"
   ]
  },
  {
   "cell_type": "code",
   "execution_count": 188,
   "metadata": {},
   "outputs": [
    {
     "data": {
      "text/plain": [
       "<matplotlib.colorbar.Colorbar at 0x11a7c4ed0>"
      ]
     },
     "execution_count": 188,
     "metadata": {},
     "output_type": "execute_result"
    },
    {
     "data": {
      "image/png": "[encoded data removed]",
      "text/plain": [
       "<Figure size 432x288 with 2 Axes>"
      ]
     },
     "metadata": {
      "needs_background": "light"
     },
     "output_type": "display_data"
    }
   ],
   "source": [
    "eov = np.loadtxt('FTLE_eovLin_alt.txt')\n",
    "eov2 = np.loadtxt('FTLE_eovLin.txt')\n",
    "plt.imshow(np.abs(eov-eov2))\n",
    "plt.colorbar()"
   ]
  },
  {
   "cell_type": "code",
   "execution_count": 122,
   "metadata": {},
   "outputs": [
    {
     "data": {
      "text/plain": [
       "<function _lambdifygenerated(s, t, t0, u0, v0)>"
      ]
     },
     "execution_count": 122,
     "metadata": {},
     "output_type": "execute_result"
    }
   ],
   "source": [
    "lambdaAlongTrajNumeric"
   ]
  },
  {
   "cell_type": "markdown",
   "metadata": {},
   "source": [
    "Evaluating the function at fixed time instants"
   ]
  },
  {
   "cell_type": "code",
   "execution_count": 176,
   "metadata": {},
   "outputs": [],
   "source": [
    "for i in range(200):\n",
    "    values[:,:,i] = np.sqrt(lambdaAlongTrajNumeric(integrate_times[i],2,0,U,V))"
   ]
  },
  {
   "cell_type": "code",
   "execution_count": 171,
   "metadata": {},
   "outputs": [
    {
     "data": {
      "image/png": "[encoded data removed]",
      "text/latex": [
       "$\\displaystyle 0.09045226130653267$"
      ],
      "text/plain": [
       "0.09045226130653267"
      ]
     },
     "execution_count": 171,
     "metadata": {},
     "output_type": "execute_result"
    }
   ],
   "source": [
    "integrate_times[9]"
   ]
  },
  {
   "cell_type": "code",
   "execution_count": 138,
   "metadata": {},
   "outputs": [
    {
     "data": {
      "text/plain": [
       "<matplotlib.image.AxesImage at 0x10296f190>"
      ]
     },
     "execution_count": 138,
     "metadata": {},
     "output_type": "execute_result"
    },
    {
     "data": {
      "image/png": "[encoded data removed]",
      "text/plain": [
       "<Figure size 432x288 with 1 Axes>"
      ]
     },
     "metadata": {
      "needs_background": "light"
     },
     "output_type": "display_data"
    }
   ],
   "source": [
    "plt.imshow(values[:,:,9]) ##Checking that we recover the FTLE field again"
   ]
  },
  {
   "cell_type": "markdown",
   "metadata": {},
   "source": [
    "Computing the model sensitivity through numerical integration"
   ]
  },
  {
   "cell_type": "code",
   "execution_count": 177,
   "metadata": {},
   "outputs": [],
   "source": [
    "MS = np.trapz(values, x = integrate_times, axis = 2)"
   ]
  },
  {
   "cell_type": "code",
   "execution_count": 178,
   "metadata": {},
   "outputs": [
    {
     "data": {
      "text/plain": [
       "<matplotlib.colorbar.Colorbar at 0x11c0c9c10>"
      ]
     },
     "execution_count": 178,
     "metadata": {},
     "output_type": "execute_result"
    },
    {
     "data": {
      "image/png": "[encoded data removed]",
      "text/plain": [
       "<Figure size 432x288 with 2 Axes>"
      ]
     },
     "metadata": {
      "needs_background": "light"
     },
     "output_type": "display_data"
    }
   ],
   "source": [
    "plt.imshow(MS)\n",
    "plt.colorbar()"
   ]
  },
  {
   "cell_type": "markdown",
   "metadata": {},
   "source": [
    "Loading numerical results from matlab:"
   ]
  },
  {
   "cell_type": "code",
   "execution_count": 179,
   "metadata": {},
   "outputs": [],
   "source": [
    "MSEov= np.loadtxt('MS_eovLin.txt')\n",
    "MSFullEov = np.loadtxt('MSFull_eovLin.txt')\n",
    "\n"
   ]
  },
  {
   "cell_type": "code",
   "execution_count": 186,
   "metadata": {},
   "outputs": [
    {
     "data": {
      "text/plain": [
       "<matplotlib.colorbar.Colorbar at 0x11a550d90>"
      ]
     },
     "execution_count": 186,
     "metadata": {},
     "output_type": "execute_result"
    },
    {
     "data": {
      "image/png": "[encoded data removed]",
      "text/plain": [
       "<Figure size 432x288 with 2 Axes>"
      ]
     },
     "metadata": {
      "needs_background": "light"
     },
     "output_type": "display_data"
    }
   ],
   "source": [
    "plt.imshow(np.abs(MSEov-MS))\n",
    "#plt.title(\"Difference between analytic and Finite Difference Model Sens. fields\")\n",
    "plt.colorbar()"
   ]
  },
  {
   "cell_type": "code",
   "execution_count": null,
   "metadata": {},
   "outputs": [],
   "source": []
  }
 ],
 "metadata": {
  "kernelspec": {
   "display_name": "Python 3",
   "language": "python",
   "name": "python3"
  },
  "language_info": {
   "codemirror_mode": {
    "name": "ipython",
    "version": 3
   },
   "file_extension": ".py",
   "mimetype": "text/x-python",
   "name": "python",
   "nbconvert_exporter": "python",
   "pygments_lexer": "ipython3",
   "version": "3.7.4"
  }
 },
 "nbformat": 4,
 "nbformat_minor": 2
}
