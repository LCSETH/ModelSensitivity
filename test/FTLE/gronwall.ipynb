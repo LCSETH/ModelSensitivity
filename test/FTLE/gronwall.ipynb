{
 "cells": [
  {
   "cell_type": "markdown",
   "metadata": {},
   "source": [
    "# Gronwall-type estimate for the stochastic case\n",
    "\n",
    "\n",
    "$$\n",
    "dz_t = f(z_t,t) dt \\\\\n",
    "dx_t = f(x_t,t) dt + \\epsilon g(x_t,t) dt + \\epsilon \\sigma(x_t,t) dW_t\n",
    "$$\n",
    "\n",
    "Define the difference between the two processes as \n",
    "\n",
    "$$\n",
    "y_t : = |x_t - z_t|^2 = |\\int_{t_0}^t f(x_s, s) ds - \\int_{t_0}^t f(z_s,s)ds + \\epsilon \\int_{t_0}^t g(x_s, s)ds + \\epsilon \\int_{t_0}^t \\sigma(x_s, s)dW_s|^2\n",
    "$$\n",
    "\n",
    "By Cauchy-Schwarz: $||\\sum_i^n x_i||^2 = ||\\sum_i^nx_i \\cdot 1||^2 \\leq \\sum x_i^2 \\cdot \\sum 1 = n \\sum x_i^2$\n",
    "\n",
    "\n",
    "$$v(t):= E(y_t) \\leq 3E\\left[\\left(\\int_{t_0}^t (f(x_s,s) - f(z_s,s)) ds \\right)^2 + \\epsilon^2 \\left(\\int_{t_0}^tg(x_s,s)ds \\right)^2 + \\epsilon^2 \\left(\\int_{t_0}^t \\sigma(x_s,s)dW_s\\right)^2 \\right] = $$\n",
    "\n",
    "$$\n",
    "=3E\\left[\\left(\\int_{t_0}^t (f(x_s,s) - f(z_s,s)) ds \\right)^2\\right] + 3\\epsilon^2 E\\left[ \\left(\\int_{t_0}^tg(x_s,s)ds \\right)^2\\right] + 3\\epsilon^2 E \\left[ \\left(\\int_{t_0}^t \\sigma(x_s,s)dW_s\\right)^2 \\right]\\leq\n",
    "$$\n",
    "By Cauchy-Schwartz in the first two terms and the Ito-Isometry in the last:\n",
    "$$\n",
    "\\leq 3(t-t_0)\\int_{t_0}^t E(|f(x_s,s) - f(z_s,s)|^2) ds  + 3\\epsilon^2(t-t_0) \\int_{t_0}^t E (|g(x_s,s)|^2)ds + 3\\epsilon^2 \\int_{t_0}^t E[Tr(\\sigma(x_s,s)^T\\sigma(x_s,s))]ds \\leq\n",
    "$$\n",
    "\n",
    "$f$ is Lipschitz, with Lipschitz constant $L$, $E (|g(x_s,s)|^2) \\leq \\Delta^2$ and $E[Tr(\\sigma(x_s,s)^T\\sigma(x_s,s))] \\leq \\Delta^2_\\sigma$.\n",
    "\n",
    "$$\n",
    "v(t) \\leq 3(t-t_0)L^2\\int_{t_0}^t v(s) ds + 3\\epsilon^2 (t-t_0)^2 \\Delta^2 + 3\\epsilon^2(t-t_0)\\Delta^2_\\sigma\n",
    "$$\n",
    "\n",
    "\n",
    "### The Gronwall-inequality states:\n",
    "If \n",
    "$$\n",
    "x(t) \\leq h(t) + \\int_{t_0}^t k(s)x(s) ds,\n",
    "$$\n",
    "then\n",
    "\n",
    "$$v(t) \\leq h(t) + \\int_{t_0}^th(s)k(s)e^{\\int_{s}^t k(u) du}ds.$$ Now, put \n",
    "\n",
    "$x = v = E(y_t)$, $k(s) = 3(t-t_0)L^2$, $h(t) =3\\epsilon^2 (t-t_0)^2 \\Delta^2 + 3\\epsilon^2(t-t_0)\\Delta^2_\\sigma $"
   ]
  },
  {
   "cell_type": "code",
   "execution_count": 2,
   "metadata": {},
   "outputs": [
    {
     "name": "stdout",
     "output_type": "stream",
     "text": [
      "IPython console for SymPy 1.4 (Python 3.7.4-64-bit) (ground types: gmpy)\n",
      "\n",
      "These commands were executed:\n",
      ">>> from __future__ import division\n",
      ">>> from sympy import *\n",
      ">>> x, y, z, t = symbols('x y z t')\n",
      ">>> k, m, n = symbols('k m n', integer=True)\n",
      ">>> f, g, h = symbols('f g h', cls=Function)\n",
      ">>> init_printing()\n",
      "\n",
      "Documentation can be found at https://docs.sympy.org/1.4/\n",
      "\n"
     ]
    }
   ],
   "source": [
    "from sympy import init_printing\n",
    "init_printing()\n",
    "import numpy as np\n",
    "\n",
    "import matplotlib.pyplot as plt\n",
    "from sympy import init_session\n",
    "init_session()\n",
    "s, t, t0 = symbols('s t t0')\n",
    "L, Delta, Delta_s = symbols('L Delta Delta_s')\n",
    "epsilon = Symbol('epsilon')"
   ]
  },
  {
   "cell_type": "code",
   "execution_count": 3,
   "metadata": {},
   "outputs": [],
   "source": [
    "k = 3*(t-t0)*L**2\n",
    "h = 3*epsilon**2 * (s-t0)**2 *Delta**2 + 3*epsilon**2 * (s-t0)*Delta_s**2\n"
   ]
  },
  {
   "cell_type": "code",
   "execution_count": 4,
   "metadata": {},
   "outputs": [
    {
     "data": {
      "image/png": "[encoded data removed]",
      "text/latex": [
       "$\\displaystyle 3 \\Delta^{2} \\epsilon^{2} \\left(s - t_{0}\\right)^{2} + 3 \\Delta_{s}^{2} \\epsilon^{2} \\left(s - t_{0}\\right)$"
      ],
      "text/plain": [
       "   2  2         2       2  2         \n",
       "3⋅Δ ⋅ε ⋅(s - t₀)  + 3⋅Δₛ ⋅ε ⋅(s - t₀)"
      ]
     },
     "execution_count": 4,
     "metadata": {},
     "output_type": "execute_result"
    }
   ],
   "source": [
    "h"
   ]
  },
  {
   "cell_type": "code",
   "execution_count": 5,
   "metadata": {},
   "outputs": [],
   "source": [
    "u = Symbol('u')\n",
    "exponent = integrate(k, (u, s, t))"
   ]
  },
  {
   "cell_type": "code",
   "execution_count": 6,
   "metadata": {},
   "outputs": [
    {
     "data": {
      "image/png": "[encoded data removed]",
      "text/latex": [
       "$\\displaystyle - 3 L^{2} \\left(s - t\\right) \\left(t - t_{0}\\right)$"
      ],
      "text/plain": [
       "    2                 \n",
       "-3⋅L ⋅(s - t)⋅(t - t₀)"
      ]
     },
     "execution_count": 6,
     "metadata": {},
     "output_type": "execute_result"
    }
   ],
   "source": [
    "simplify(k*(t-s))"
   ]
  },
  {
   "cell_type": "code",
   "execution_count": 7,
   "metadata": {},
   "outputs": [
    {
     "data": {
      "image/png": "[encoded data removed]",
      "text/latex": [
       "$\\displaystyle - L^{2} s \\left(3 t - 3 t_{0}\\right) + L^{2} t \\left(3 t - 3 t_{0}\\right)$"
      ],
      "text/plain": [
       "   2                   2               \n",
       "- L ⋅s⋅(3⋅t - 3⋅t₀) + L ⋅t⋅(3⋅t - 3⋅t₀)"
      ]
     },
     "execution_count": 7,
     "metadata": {},
     "output_type": "execute_result"
    }
   ],
   "source": [
    "exponent"
   ]
  },
  {
   "cell_type": "code",
   "execution_count": 8,
   "metadata": {},
   "outputs": [],
   "source": [
    "RHS = h.subs(s, t) + k*integrate(h*exp(exponent), (s, t0,t))"
   ]
  },
  {
   "cell_type": "code",
   "execution_count": 9,
   "metadata": {},
   "outputs": [
    {
     "data": {
      "image/png": "[encoded data removed]",
      "text/latex": [
       "$\\displaystyle \\begin{cases} 3 \\epsilon^{2} \\left(t - t_{0}\\right) \\left(\\Delta^{2} \\left(t - t_{0}\\right) + \\Delta_{s}^{2} + \\frac{- 9 \\Delta^{2} L^{4} t^{4} + 36 \\Delta^{2} L^{4} t^{3} t_{0} - 54 \\Delta^{2} L^{4} t^{2} t_{0}^{2} + 36 \\Delta^{2} L^{4} t t_{0}^{3} - 9 \\Delta^{2} L^{4} t_{0}^{4} - 6 \\Delta^{2} L^{2} t^{2} + 12 \\Delta^{2} L^{2} t t_{0} - 6 \\Delta^{2} L^{2} t_{0}^{2} - 2 \\Delta^{2} - 9 \\Delta_{s}^{2} L^{4} t^{3} + 27 \\Delta_{s}^{2} L^{4} t^{2} t_{0} - 27 \\Delta_{s}^{2} L^{4} t t_{0}^{2} + 9 \\Delta_{s}^{2} L^{4} t_{0}^{3} - 3 \\Delta_{s}^{2} L^{2} t + 3 \\Delta_{s}^{2} L^{2} t_{0} + \\left(2 \\Delta^{2} + 3 \\Delta_{s}^{2} L^{2} t - 3 \\Delta_{s}^{2} L^{2} t_{0}\\right) e^{3 L^{2} \\left(t - t_{0}\\right)^{2}}}{9 L^{4} \\left(t^{3} - 3 t^{2} t_{0} + 3 t t_{0}^{2} - t_{0}^{3}\\right)}\\right) & \\text{for}\\: 9 L^{6} \\left(t^{3} - 3 t^{2} t_{0} + 3 t t_{0}^{2} - t_{0}^{3}\\right) \\neq 0 \\\\3 \\epsilon^{2} \\left(t - t_{0}\\right) \\left(\\Delta^{2} \\left(t - t_{0}\\right) + \\Delta_{s}^{2} + \\frac{L^{2} \\left(2 \\Delta^{2} t^{3} - 2 \\Delta^{2} t_{0}^{3} - 3 t^{2} \\left(2 \\Delta^{2} t_{0} - \\Delta_{s}^{2}\\right) + 6 t t_{0} \\left(\\Delta^{2} t_{0} - \\Delta_{s}^{2}\\right) - 6 t_{0}^{2} \\left(\\Delta^{2} t_{0} - \\Delta_{s}^{2}\\right) + 3 t_{0}^{2} \\left(2 \\Delta^{2} t_{0} - \\Delta_{s}^{2}\\right)\\right)}{2}\\right) & \\text{otherwise} \\end{cases}$"
      ],
      "text/plain": [
       "⎧              ⎛                                                              \n",
       "⎪              ⎜                         2  4  4       2  4  3          2  4  \n",
       "⎪   2          ⎜ 2              2   - 9⋅Δ ⋅L ⋅t  + 36⋅Δ ⋅L ⋅t ⋅t₀ - 54⋅Δ ⋅L ⋅t\n",
       "⎪3⋅ε ⋅(t - t₀)⋅⎜Δ ⋅(t - t₀) + Δₛ  + ──────────────────────────────────────────\n",
       "⎪              ⎜                                                              \n",
       "⎨              ⎝                                                              \n",
       "⎪                                                                             \n",
       "⎪                                                                             \n",
       "⎪                                                                             \n",
       "⎪                                                                             \n",
       "⎩                                                                             \n",
       "\n",
       "                                                                              \n",
       "2   2       2  4     3      2  4   4      2  2  2       2  2           2  2   \n",
       " ⋅t₀  + 36⋅Δ ⋅L ⋅t⋅t₀  - 9⋅Δ ⋅L ⋅t₀  - 6⋅Δ ⋅L ⋅t  + 12⋅Δ ⋅L ⋅t⋅t₀ - 6⋅Δ ⋅L ⋅t₀\n",
       "──────────────────────────────────────────────────────────────────────────────\n",
       "                                                                              \n",
       "                                                                            9⋅\n",
       "                                                                              \n",
       "               ⎛                     2 ⎛   2  3      2   3      2 ⎛   2       \n",
       "    2          ⎜ 2              2   L ⋅⎝2⋅Δ ⋅t  - 2⋅Δ ⋅t₀  - 3⋅t ⋅⎝2⋅Δ ⋅t₀ - Δ\n",
       " 3⋅ε ⋅(t - t₀)⋅⎜Δ ⋅(t - t₀) + Δₛ  + ──────────────────────────────────────────\n",
       "               ⎝                                                              \n",
       "\n",
       "                                                                              \n",
       "2      2       2  4  3        2  4  2           2  4     2       2  4   3     \n",
       "  - 2⋅Δ  - 9⋅Δₛ ⋅L ⋅t  + 27⋅Δₛ ⋅L ⋅t ⋅t₀ - 27⋅Δₛ ⋅L ⋅t⋅t₀  + 9⋅Δₛ ⋅L ⋅t₀  - 3⋅\n",
       "──────────────────────────────────────────────────────────────────────────────\n",
       " 4 ⎛ 3      2            2     3⎞                                             \n",
       "L ⋅⎝t  - 3⋅t ⋅t₀ + 3⋅t⋅t₀  - t₀ ⎠                                             \n",
       "                                                                              \n",
       " 2⎞          ⎛ 2        2⎞       2 ⎛ 2        2⎞       2 ⎛   2        2⎞⎞⎞    \n",
       "ₛ ⎠ + 6⋅t⋅t₀⋅⎝Δ ⋅t₀ - Δₛ ⎠ - 6⋅t₀ ⋅⎝Δ ⋅t₀ - Δₛ ⎠ + 3⋅t₀ ⋅⎝2⋅Δ ⋅t₀ - Δₛ ⎠⎠⎟    \n",
       "─────────────────────────────────────────────────────────────────────────⎟    \n",
       "               2                                                         ⎠    \n",
       "\n",
       "                                                               2         2⎞   \n",
       "  2  2         2  2      ⎛   2       2  2         2  2   ⎞  3⋅L ⋅(t - t₀) ⎟   \n",
       "Δₛ ⋅L ⋅t + 3⋅Δₛ ⋅L ⋅t₀ + ⎝2⋅Δ  + 3⋅Δₛ ⋅L ⋅t - 3⋅Δₛ ⋅L ⋅t₀⎠⋅ℯ              ⎟   \n",
       "──────────────────────────────────────────────────────────────────────────⎟  f\n",
       "                                                                          ⎟   \n",
       "                                                                          ⎠   \n",
       "                                                                              \n",
       "                                                                              \n",
       "                                                                              \n",
       "                                                                              \n",
       "                                                                              \n",
       "\n",
       "                                          \n",
       "                                          \n",
       "      6 ⎛ 3      2            2     3⎞    \n",
       "or 9⋅L ⋅⎝t  - 3⋅t ⋅t₀ + 3⋅t⋅t₀  - t₀ ⎠ ≠ 0\n",
       "                                          \n",
       "                                          \n",
       "                                          \n",
       "                                          \n",
       "                                          \n",
       "                otherwise                 \n",
       "                                          "
      ]
     },
     "execution_count": 9,
     "metadata": {},
     "output_type": "execute_result"
    }
   ],
   "source": [
    "simplify(RHS)"
   ]
  },
  {
   "cell_type": "code",
   "execution_count": 10,
   "metadata": {},
   "outputs": [
    {
     "data": {
      "image/png": "[encoded data removed]",
      "text/latex": [
       "$\\displaystyle \\left\\{\\Delta, \\Delta_{s}, L, \\epsilon, t, t_{0}\\right\\}$"
      ],
      "text/plain": [
       "{Δ, Δₛ, L, ε, t, t₀}"
      ]
     },
     "execution_count": 10,
     "metadata": {},
     "output_type": "execute_result"
    }
   ],
   "source": [
    "RHS.free_symbols"
   ]
  },
  {
   "cell_type": "code",
   "execution_count": 11,
   "metadata": {},
   "outputs": [],
   "source": [
    "RHS_numeric = lambdify((Delta,Delta_s,L,epsilon,t, t0), RHS, 'numpy')"
   ]
  },
  {
   "cell_type": "code",
   "execution_count": 15,
   "metadata": {},
   "outputs": [],
   "source": [
    "def RHS_num(Delta,L,epsilon,t, t0):\n",
    "    common = 3*epsilon**2 *Delta**2\n",
    "    first = (t-t0)**2 + (t-t0)\n",
    "    secondfactor = np.exp(3*L**2 *(t-t0))\n",
    "    integral = 3*np.exp((t-t0))-(t-t0)**2-3*(t-t0+1)\n",
    "    return common*(first + secondfactor*integral)"
   ]
  },
  {
   "cell_type": "code",
   "execution_count": 12,
   "metadata": {},
   "outputs": [],
   "source": [
    "%matplotlib inline"
   ]
  },
  {
   "cell_type": "code",
   "execution_count": 16,
   "metadata": {},
   "outputs": [
    {
     "data": {
      "text/plain": [
       "[<matplotlib.lines.Line2D at 0x11e6d6110>]"
      ]
     },
     "execution_count": 16,
     "metadata": {},
     "output_type": "execute_result"
    },
    {
     "data": {
      "image/png": "[encoded data removed]",
      "text/plain": [
       "<Figure size 432x288 with 1 Axes>"
      ]
     },
     "metadata": {
      "needs_background": "light"
     },
     "output_type": "display_data"
    }
   ],
   "source": [
    "times = np.linspace(0, 2*np.pi, 10000)\n",
    "plt.plot(times, RHS_num(1, 2, 0.01, times, 0), '-')\n"
   ]
  },
  {
   "cell_type": "code",
   "execution_count": null,
   "metadata": {},
   "outputs": [],
   "source": []
  }
 ],
 "metadata": {
  "kernelspec": {
   "display_name": "Python 3",
   "language": "python",
   "name": "python3"
  },
  "language_info": {
   "codemirror_mode": {
    "name": "ipython",
    "version": 3
   },
   "file_extension": ".py",
   "mimetype": "text/x-python",
   "name": "python",
   "nbconvert_exporter": "python",
   "pygments_lexer": "ipython3",
   "version": "3.7.4"
  }
 },
 "nbformat": 4,
 "nbformat_minor": 2
}
